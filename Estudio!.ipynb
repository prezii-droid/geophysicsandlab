{
  "nbformat": 4,
  "nbformat_minor": 0,
  "metadata": {
    "colab": {
      "name": "Untitled77.ipynb",
      "provenance": [],
      "authorship_tag": "ABX9TyMuj5KOS9TvV0HpzeGuC4Ps",
      "include_colab_link": true
    },
    "kernelspec": {
      "name": "python3",
      "display_name": "Python 3"
    },
    "language_info": {
      "name": "python"
    }
  },
  "cells": [
    {
      "cell_type": "markdown",
      "metadata": {
        "id": "view-in-github",
        "colab_type": "text"
      },
      "source": [
        "<a href=\"https://colab.research.google.com/github/prezii-droid/geophysicsandlab/blob/Tarea-1/Estudio!.ipynb\" target=\"_parent\"><img src=\"https://colab.research.google.com/assets/colab-badge.svg\" alt=\"Open In Colab\"/></a>"
      ]
    },
    {
      "cell_type": "code",
      "metadata": {
        "id": "ppsaVx1scik6"
      },
      "source": [
        "import numpy as np"
      ],
      "execution_count": 1,
      "outputs": []
    },
    {
      "cell_type": "markdown",
      "metadata": {
        "id": "tDfHtZbZlIZi"
      },
      "source": [
        "**(d)**"
      ]
    },
    {
      "cell_type": "code",
      "metadata": {
        "colab": {
          "base_uri": "https://localhost:8080/"
        },
        "id": "Kv2r8Xcmc6XW",
        "outputId": "9476140f-15bc-49d8-b399-f5c0019d0d19"
      },
      "source": [
        "np.sin(90*np.pi/180)**2"
      ],
      "execution_count": 2,
      "outputs": [
        {
          "output_type": "execute_result",
          "data": {
            "text/plain": [
              "1.0"
            ]
          },
          "metadata": {},
          "execution_count": 2
        }
      ]
    },
    {
      "cell_type": "code",
      "metadata": {
        "id": "2At_VJ4ncBvy"
      },
      "source": [
        "##Practica 1\n",
        "def g(t):\n",
        "  return 9.78031846*(1 + 0.0053024*((np.sin(t*np.pi/180))**2) - 0.0000058*((np.sin(2*t*np.pi/180))**2))"
      ],
      "execution_count": 3,
      "outputs": []
    },
    {
      "cell_type": "code",
      "metadata": {
        "colab": {
          "base_uri": "https://localhost:8080/"
        },
        "id": "ozGxKVTCdQ0V",
        "outputId": "a7579e52-c75c-49fa-a73c-b84305fd0b43"
      },
      "source": [
        "#m/s^2 a mGal\n",
        "print(g(53.506944)*100000)"
      ],
      "execution_count": 4,
      "outputs": [
        {
          "output_type": "stream",
          "name": "stdout",
          "text": [
            "981378.3256988701\n"
          ]
        }
      ]
    },
    {
      "cell_type": "markdown",
      "metadata": {
        "id": "DF9JahXAnwnM"
      },
      "source": [
        "**(e)**"
      ]
    },
    {
      "cell_type": "code",
      "metadata": {
        "colab": {
          "base_uri": "https://localhost:8080/"
        },
        "id": "TaVTMYp3nziv",
        "outputId": "6e2722b2-319f-407a-9721-5e8f4abd32e0"
      },
      "source": [
        "anomalia_gravedad = 981166.902-981378.33\n",
        "anomalia_gravedad"
      ],
      "execution_count": 5,
      "outputs": [
        {
          "output_type": "execute_result",
          "data": {
            "text/plain": [
              "-211.42799999995623"
            ]
          },
          "metadata": {},
          "execution_count": 5
        }
      ]
    },
    {
      "cell_type": "markdown",
      "metadata": {
        "id": "7VRYbGEKlBN_"
      },
      "source": [
        "**(f)**"
      ]
    },
    {
      "cell_type": "markdown",
      "metadata": {
        "id": "CT9VsoPFpq50"
      },
      "source": [
        "#"
      ]
    },
    {
      "cell_type": "markdown",
      "metadata": {
        "id": "XR9UyvHJlBKz"
      },
      "source": [
        ""
      ]
    },
    {
      "cell_type": "code",
      "metadata": {
        "id": "h9Q951ookSOX"
      },
      "source": [
        "#Correción de aire libre, gm\n",
        "def free_air(gm,dh):\n",
        "  return gm + 0.3086*dh"
      ],
      "execution_count": 6,
      "outputs": []
    },
    {
      "cell_type": "code",
      "metadata": {
        "colab": {
          "base_uri": "https://localhost:8080/"
        },
        "id": "ishWXzsukUhO",
        "outputId": "f3dcb86f-727b-4549-d07e-e2559c5f1fca"
      },
      "source": [
        "c = 981166.902\n",
        "d = g(53.506944)*100000\n",
        "free_air(c/100000,600)"
      ],
      "execution_count": 7,
      "outputs": [
        {
          "output_type": "execute_result",
          "data": {
            "text/plain": [
              "194.97166902"
            ]
          },
          "metadata": {},
          "execution_count": 7
        }
      ]
    }
  ]
}