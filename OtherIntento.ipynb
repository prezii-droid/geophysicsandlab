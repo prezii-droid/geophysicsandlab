{
  "nbformat": 4,
  "nbformat_minor": 0,
  "metadata": {
    "colab": {
      "name": "Untitled75.ipynb",
      "provenance": [],
      "collapsed_sections": [],
      "authorship_tag": "ABX9TyNorNS5jNEK1win6QDww9Sb",
      "include_colab_link": true
    },
    "kernelspec": {
      "name": "python3",
      "display_name": "Python 3"
    },
    "language_info": {
      "name": "python"
    }
  },
  "cells": [
    {
      "cell_type": "markdown",
      "metadata": {
        "id": "view-in-github",
        "colab_type": "text"
      },
      "source": [
        "<a href=\"https://colab.research.google.com/github/prezii-droid/geophysicsandlab/blob/Circunferencia/OtherIntento.ipynb\" target=\"_parent\"><img src=\"https://colab.research.google.com/assets/colab-badge.svg\" alt=\"Open In Colab\"/></a>"
      ]
    },
    {
      "cell_type": "code",
      "metadata": {
        "colab": {
          "base_uri": "https://localhost:8080/",
          "height": 295
        },
        "id": "NpeofWoY1sIG",
        "outputId": "973f7cc6-00ce-402f-9390-cdfdb1875c93"
      },
      "source": [
        "import numpy as np\n",
        "import matplotlib.pyplot as plt\n",
        "\n",
        "#Constantes\n",
        "N = 0.1\n",
        "r = 30. #m\n",
        "delta_p=np.array([1,-3])#kg/m**3\n",
        "G = 0.00000000006674 #N*kg**2/m**2, Constante de gravitación universal\n",
        "\n",
        "#Variación en z\n",
        "z = np.array([1,1.2,1.4,20,1]) # m\n",
        "\n",
        "#Función\n",
        "def g1(px,pz,pd):\n",
        "    return (4/3)*np.pi*G*(r**3)*(pd)*pz*(1/((px**2)+(pz**2))**(3/2))\n",
        "\n",
        "# Valores del eje X que toma el gráfico.\n",
        "x = np.arange(-2.5,2.5,N) #m\n",
        "\n",
        "# Valores del eje Y que toma el gráfico.\n",
        "g11 = g1(x,z[0],delta_p[0])\n",
        "g12 = g1(x,z[1],delta_p[0])\n",
        "g13 = g1(x,z[2],delta_p[0])\n",
        "g14 = g1(x,z[3],delta_p[0])\n",
        "g15 = g1(x,z[4],delta_p[1])\n",
        "\n",
        "# Graficar funcion.\n",
        "plt.scatter(x,g11,label=f\"z= {z[0]}, p_e > p_s\")\n",
        "plt.scatter(x,g12,label=f\"z= {z[1]}, p_e > p_s\")\n",
        "plt.scatter(x,g13,label=f\"z= {z[2]}, p_e > p_s\")\n",
        "plt.scatter(x,g14,label=f\"z= {z[3]}, p_e > p_s\")\n",
        "plt.scatter(x,g15,label=f\"z= {z[4]}, p_e < p_s\")\n",
        "\n",
        "# Nombrar los ejes\n",
        "plt.xlabel('x')\n",
        "plt.ylabel(\"$g(x)$\")\n",
        "\n",
        "#Ponerle nombre al grafico\n",
        "plt.title(\"Esfera\")\n",
        "\n",
        "# Limitar los valores de los ejes.\n",
        "#plt.xlim(-7, 7)\n",
        "#plt.ylim(-10, 10)\n",
        "\n",
        "#Guardar gráfico como imágen PNG.\n",
        "plt.savefig(\"output.png\")\n",
        "\n",
        "#Iniciar leyenda\n",
        "plt.legend()\n",
        "\n",
        "#Grilla\n",
        "plt.grid(True)\n",
        "\n",
        "#Graficarlo\n",
        "plt.show()\n"
      ],
      "execution_count": null,
      "outputs": [
        {
          "output_type": "display_data",
          "data": {
            "image/png": "[encoded data removed]",
            "text/plain": [
              "<Figure size 432x288 with 1 Axes>"
            ]
          },
          "metadata": {
            "needs_background": "light"
          }
        }
      ]
    },
    {
      "cell_type": "code",
      "metadata": {
        "id": "6MKwbbZN3j2w",
        "colab": {
          "base_uri": "https://localhost:8080/"
        },
        "outputId": "655e8883-74f8-4479-8e1a-0bf4986936c6"
      },
      "source": [
        "M = 0.1\n",
        "o = np.arange(-2.5,2.5,M)\n",
        "len(o)"
      ],
      "execution_count": null,
      "outputs": [
        {
          "output_type": "execute_result",
          "data": {
            "text/plain": [
              "50"
            ]
          },
          "metadata": {},
          "execution_count": 12
        }
      ]
    }
  ]
}