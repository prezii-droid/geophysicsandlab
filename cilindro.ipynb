{
  "nbformat": 4,
  "nbformat_minor": 0,
  "metadata": {
    "colab": {
      "name": "cilindro.ipynb",
      "provenance": [],
      "collapsed_sections": [],
      "authorship_tag": "ABX9TyNV8Sc3s6JE/123XBX34g1B",
      "include_colab_link": true
    },
    "kernelspec": {
      "name": "python3",
      "display_name": "Python 3"
    },
    "language_info": {
      "name": "python"
    }
  },
  "cells": [
    {
      "cell_type": "markdown",
      "metadata": {
        "id": "view-in-github",
        "colab_type": "text"
      },
      "source": [
        "<a href=\"https://colab.research.google.com/github/prezii-droid/geophysicsandlab/blob/Cilindro/cilindro.ipynb\" target=\"_parent\"><img src=\"https://colab.research.google.com/assets/colab-badge.svg\" alt=\"Open In Colab\"/></a>"
      ]
    },
    {
      "cell_type": "code",
      "metadata": {
        "id": "Wv8eoxj7BmDN"
      },
      "source": [
        "import numpy as np\n",
        "import matplotlib.pyplot as plt"
      ],
      "execution_count": 1,
      "outputs": []
    },
    {
      "cell_type": "code",
      "metadata": {
        "id": "MLL268i1B6Cw"
      },
      "source": [
        "#Constantes\n",
        "N = 0.1\n",
        "r = 30. #m\n",
        "G = 0.00000000006674 #N*kg**2/m**2, Constante de gravitación universal\n",
        "p_c= 2. #kg/m**3\n",
        "p_s= 1. #kg/m**3"
      ],
      "execution_count": 2,
      "outputs": []
    },
    {
      "cell_type": "code",
      "metadata": {
        "id": "AvB9GTtGCCFW"
      },
      "source": [
        "#Variación en z\n",
        "z = np.array([1,1.2,1.4,20]) # m"
      ],
      "execution_count": 3,
      "outputs": []
    },
    {
      "cell_type": "code",
      "metadata": {
        "id": "ha6jiiNcCDfN"
      },
      "source": [
        "#Funcion\n",
        "def g2(px,pz):\n",
        "  return 2*np.pi*G*(r**2)*(p_c-p_s)*pz*(1/((px**2)+(pz**2)))"
      ],
      "execution_count": 4,
      "outputs": []
    },
    {
      "cell_type": "code",
      "metadata": {
        "colab": {
          "base_uri": "https://localhost:8080/",
          "height": 295
        },
        "id": "xFL1b-UfCIH-",
        "outputId": "e2c1ed64-4be1-4e11-d2c4-7244db889b32"
      },
      "source": [
        "# Valores del eje X que toma el gráfico.\n",
        "x = np.arange(-2.5,2.5,N)#m\n",
        "\n",
        "# Valores del eje Y que toma el gráfico.\n",
        "g21 = g2(x,z[0])\n",
        "g22 = g2(x,z[1])\n",
        "g23 = g2(x,z[2])\n",
        "g24 = g2(x,z[3])\n",
        "\n",
        "\n",
        "# Graficar funcion.\n",
        "plt.scatter(x,g21,label=f\"z= {z[0]}\")\n",
        "plt.scatter(x,g22,label=f\"z= {z[1]}\")\n",
        "plt.scatter(x,g23,label=f\"z= {z[2]}\")\n",
        "plt.scatter(x,g24,label=f\"z= {z[3]}\")\n",
        "\n",
        "# Nombrar los ejes\n",
        "plt.xlabel('x')\n",
        "plt.ylabel(\"$g(x)$\")\n",
        "\n",
        "#Ponerle nombre al grafico\n",
        "plt.title(\"Cilindro\")\n",
        "\n",
        "# Limitar los valores de los ejes.\n",
        "#plt.xlim(-7, 7)\n",
        "#plt.ylim(-10, 10)\n",
        "\n",
        "#Guardar gráfico como imágen PNG.\n",
        "plt.savefig(\"output.png\")\n",
        "\n",
        "#Iniciar leyenda\n",
        "plt.legend()\n",
        "\n",
        "#Grilla\n",
        "plt.grid(True)\n",
        "\n",
        "#Graficarlo\n",
        "plt.show()"
      ],
      "execution_count": 5,
      "outputs": [
        {
          "output_type": "display_data",
          "data": {
            "image/png": "[encoded data removed]",
            "text/plain": [
              "<Figure size 432x288 with 1 Axes>"
            ]
          },
          "metadata": {
            "needs_background": "light"
          }
        }
      ]
    }
  ]
}